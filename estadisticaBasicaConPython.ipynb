{
 "cells": [
  {
   "cell_type": "markdown",
   "metadata": {},
   "source": [
    "#Bibliotecas"
   ]
  },
  {
   "cell_type": "markdown",
   "metadata": {},
   "source": []
  },
  {
   "cell_type": "code",
   "execution_count": 1,
   "metadata": {},
   "outputs": [],
   "source": [
    "import numpy as np\n",
    "import pandas as pd\n",
    "import random"
   ]
  },
  {
   "cell_type": "markdown",
   "metadata": {},
   "source": [
    "#Promedio:\n",
    "\n",
    "Tambien conocido como MEDIA, el promedio es la suma de un conjunto de valores dividida por el número de elementos en ese conjunto. Es una medida central que se utiliza ampliamente para resumir datos."
   ]
  },
  {
   "cell_type": "code",
   "execution_count": 2,
   "metadata": {},
   "outputs": [
    {
     "name": "stdout",
     "output_type": "stream",
     "text": [
      "30.0\n"
     ]
    }
   ],
   "source": [
    "#Crear lista de numeros\n",
    "\n",
    "numeros = [10,20,30,40,50]\n",
    "\n",
    "# calcular promedio\n",
    "\n",
    "promedio = sum(numeros)/len(numeros)\n",
    "\n",
    "#Imprimir resultado\n",
    "\n",
    "print(promedio)"
   ]
  },
  {
   "cell_type": "code",
   "execution_count": 6,
   "metadata": {},
   "outputs": [],
   "source": [
    "#Pedir al usuario que ingrese numeros\n",
    "numeros = input(\"Ingresa numeros separados por un espacio: \")\n",
    "\n",
    "\n",
    "#Convertir la entrada del usuario en una lista\n",
    "numeros = [float(numero) for numero in numeros.split()]\n",
    "\n",
    "\n",
    "#aplicamos la formala para calcular el promedio\n",
    "promedio = sum(numeros) / len(numeros)\n",
    "\n",
    "\n",
    "#Imprimimos en consola el resultado\n",
    "print(promedio)\n"
   ]
  },
  {
   "cell_type": "markdown",
   "metadata": {},
   "source": [
    "### **Importancia del Promedio en Ciencia de Datos y Análisis de Datos:**\n",
    "\n",
    "El promedio es una herramienta fundamental en la ciencia de datos y el análisis de datos por varias razones:"
   ]
  },
  {
   "cell_type": "markdown",
   "metadata": {},
   "source": [
    "**1.- Conocer la Tendencia central:**\n",
    "\n",
    "El promedio es una medida de tendencia central que proporciona información sobre el valor \"típico\" o \"promedio\" en el conjunto de datos. Permite responder preguntas como \"¿cuál es el valor promedio de las ventas de mi tienda?\" o \"¿cuál es la edad promedio de las personas en un grupo?\""
   ]
  },
  {
   "cell_type": "code",
   "execution_count": 3,
   "metadata": {},
   "outputs": [
    {
     "name": "stdout",
     "output_type": "stream",
     "text": [
      "       Producto  Mes_1  Mes_2  Mes_3  Mes_4  Mes_5  Mes_6\n",
      "0    Producto_1     97     97     13     83     53     20\n",
      "1    Producto_2     83     89     32     92     94     95\n",
      "2    Producto_3     26     73     56     99     59     45\n",
      "3    Producto_4     37     88     99     53     66     68\n",
      "4    Producto_5     38     52     33     14     66     25\n",
      "5    Producto_6     29     11     60     96     38     79\n",
      "6    Producto_7     14     14     72     90     73     75\n",
      "7    Producto_8     61     75     87     21     34     33\n",
      "8    Producto_9     70     88     17     44     91     69\n",
      "9   Producto_10     64     25     40     37     49     39\n",
      "10  Producto_11     75     52     85     79     96     60\n",
      "11  Producto_12     94     82     74     75     80     59\n",
      "12  Producto_13     67     31     85     98     31     24\n",
      "13  Producto_14     62     33     23     26     94     41\n",
      "14  Producto_15     92     20     35     15     59     89\n",
      "15  Producto_16     57     87     48     80     86     32\n",
      "16  Producto_17     84     16     82     55     43     17\n",
      "17  Producto_18     29     26     96     24     29     46\n",
      "18  Producto_19     12     86     80     75     99     26\n",
      "19  Producto_20     68     62     77     18     32     19\n",
      "20  Producto_21     26     33     32     93     67    100\n",
      "21  Producto_22     43     18     16     59     15     48\n",
      "22  Producto_23     64     42     87     91     21     85\n",
      "23  Producto_24     49     84     16     99     83     69\n",
      "24  Producto_25     28     70     61     74     47     11\n",
      "25  Producto_26     70     60     57     32     90    100\n",
      "26  Producto_27     87     67     17     95     94     66\n",
      "27  Producto_28     90     77     20     49     22     29\n",
      "28  Producto_29     45     69     99     55     85     76\n",
      "29  Producto_30     21     49     86     14     32     94\n",
      "30  Producto_31     72     60     62     19     67     33\n",
      "31  Producto_32     89     74     98     16     64     22\n",
      "32  Producto_33     66     28     95     37     87     37\n",
      "33  Producto_34     41     35     50     89     27     97\n",
      "34  Producto_35     15     65     80     79     12     62\n",
      "35  Producto_36     29     39     10     29     30     29\n",
      "36  Producto_37     87     22     96     92     37     96\n",
      "37  Producto_38     75     32     77     87     54     73\n",
      "38  Producto_39     35     14     77     99     89     42\n",
      "39  Producto_40     45     31     29     19     71     27\n",
      "40  Producto_41    100     27     56     17     41    100\n",
      "41  Producto_42     18     58     67     62     67     42\n",
      "42  Producto_43     48     88     48     87     84     33\n",
      "43  Producto_44     77     97     72     94     89     83\n",
      "44  Producto_45     63     58     24     99     94     21\n",
      "45  Producto_46     80     91     89     72     47     71\n",
      "46  Producto_47     52     28     68     54     31     34\n",
      "47  Producto_48     72     97     30     66     46     20\n",
      "48  Producto_49     91     36     29     60     11     74\n",
      "49  Producto_50     97     35     98     97     40     57\n"
     ]
    }
   ],
   "source": [
    "#Ejemplo:\n",
    "\n",
    "# Crear datos ficticios\n",
    "productos = []\n",
    "ventas = {f'Mes_{i}': [] for i in range(1, 7)}\n",
    "\n",
    "for i in range(1, 51):\n",
    "    productos.append(f'Producto_{i}')\n",
    "    for mes in ventas:\n",
    "        ventas[mes].append(random.randint(10, 100))  # Ventas aleatorias entre 10 y 100 unidades\n",
    "\n",
    "# Crear el DataFrame\n",
    "data = {'Producto': productos}\n",
    "data.update(ventas)\n",
    "\n",
    "df_ventas = pd.DataFrame(data)\n",
    "\n",
    "# Mostrar el DataFrame\n",
    "print(df_ventas)"
   ]
  },
  {
   "cell_type": "code",
   "execution_count": 4,
   "metadata": {},
   "outputs": [
    {
     "name": "stdout",
     "output_type": "stream",
     "text": [
      "La venta promedio en el primer semestre fue de $58.68\n"
     ]
    }
   ],
   "source": [
    "c1 = float(df_ventas[\"Mes_1\"].value_counts().sum())\n",
    "c2 = float(df_ventas[\"Mes_2\"].value_counts().sum())\n",
    "c3 = float(df_ventas[\"Mes_3\"].value_counts().sum())\n",
    "c4 = float(df_ventas[\"Mes_4\"].value_counts().sum())\n",
    "c5 = float(df_ventas[\"Mes_5\"].value_counts().sum())\n",
    "c6 = float(df_ventas[\"Mes_6\"].value_counts().sum())\n",
    "\n",
    "C_T = c1 + c2 + c3 + c4 + c5 + c6\n",
    "\n",
    "v_M1 = float(df_ventas[\"Mes_1\"].sum())\n",
    "v_M2 = float(df_ventas[\"Mes_1\"].sum())\n",
    "v_M3 = float(df_ventas[\"Mes_1\"].sum())\n",
    "v_M4 = float(df_ventas[\"Mes_1\"].sum())\n",
    "v_M5 = float(df_ventas[\"Mes_1\"].sum())\n",
    "v_M6 = float(df_ventas[\"Mes_1\"].sum())\n",
    "\n",
    "\n",
    "V_T = v_M1 + v_M2 + v_M3 + v_M4 +v_M5 + v_M6\n",
    "\n",
    "promedio_venta = V_T / C_T\n",
    "print(f\"La venta promedio en el primer semestre fue de ${promedio_venta}\")"
   ]
  }
 ],
 "metadata": {
  "kernelspec": {
   "display_name": "venv_jupiter",
   "language": "python",
   "name": "python3"
  },
  "language_info": {
   "codemirror_mode": {
    "name": "ipython",
    "version": 3
   },
   "file_extension": ".py",
   "mimetype": "text/x-python",
   "name": "python",
   "nbconvert_exporter": "python",
   "pygments_lexer": "ipython3",
   "version": "3.7.3"
  }
 },
 "nbformat": 4,
 "nbformat_minor": 2
}
