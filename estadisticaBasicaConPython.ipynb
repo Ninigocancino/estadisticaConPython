{
 "cells": [
  {
   "cell_type": "markdown",
   "metadata": {},
   "source": [
    "#Bibliotecas"
   ]
  },
  {
   "cell_type": "markdown",
   "metadata": {},
   "source": []
  },
  {
   "cell_type": "code",
   "execution_count": 1,
   "metadata": {},
   "outputs": [],
   "source": [
    "import numpy as np\n",
    "import pandas as pd"
   ]
  },
  {
   "cell_type": "markdown",
   "metadata": {},
   "source": [
    "#Promedio:\n",
    "\n",
    "Tambien conocido como MEDIA, el promedio es la suma de un conjunto de valores dividida por el número de elementos en ese conjunto. Es una medida central que se utiliza ampliamente para resumir datos."
   ]
  },
  {
   "cell_type": "code",
   "execution_count": 2,
   "metadata": {},
   "outputs": [
    {
     "name": "stdout",
     "output_type": "stream",
     "text": [
      "30.0\n"
     ]
    }
   ],
   "source": [
    "#Crear lista de numeros\n",
    "\n",
    "numeros = [10,20,30,40,50]\n",
    "\n",
    "# calcular promedio\n",
    "\n",
    "promedio = sum(numeros)/len(numeros)\n",
    "\n",
    "#Imprimir resultado\n",
    "\n",
    "print(promedio)"
   ]
  },
  {
   "cell_type": "code",
   "execution_count": 3,
   "metadata": {},
   "outputs": [],
   "source": [
    "#Pedir al usuario que ingrese numeros\n",
    "numeros = input(\"Ingresa numeros separados por un espacio: \")\n",
    "\n",
    "\n",
    "#Convertir la entrada del usuario en una lista\n",
    "numeros = [float(numero) for numero in numeros.split()]\n",
    "\n",
    "\n",
    "#aplicamos la formala para calcular el promedio\n",
    "promedio = sum(numeros) / len(numeros)\n",
    "\n",
    "\n",
    "#Imprimimos en consola el resultado\n",
    "print(promedio)\n"
   ]
  }
 ],
 "metadata": {
  "kernelspec": {
   "display_name": "venv_jupiter",
   "language": "python",
   "name": "python3"
  },
  "language_info": {
   "codemirror_mode": {
    "name": "ipython",
    "version": 3
   },
   "file_extension": ".py",
   "mimetype": "text/x-python",
   "name": "python",
   "nbconvert_exporter": "python",
   "pygments_lexer": "ipython3",
   "version": "3.7.3"
  }
 },
 "nbformat": 4,
 "nbformat_minor": 2
}
