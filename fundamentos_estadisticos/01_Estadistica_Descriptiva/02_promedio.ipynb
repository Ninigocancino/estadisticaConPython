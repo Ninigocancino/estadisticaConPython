{
 "cells": [
  {
   "cell_type": "markdown",
   "metadata": {},
   "source": [
    "#**Promedio**"
   ]
  },
  {
   "cell_type": "markdown",
   "metadata": {},
   "source": [
    "Tambien conocido como *MEDIA ARITMETICA*, el promedio es una medida que se utiliza para resumir un conjunto de valores numéricos en un solo valor representativo. Se calcula sumando todos los valores y dividiendo esta cifra por el numero total de los valores.\n",
    "\n",
    "\n",
    "La formula para calcular este numero es la siguiente:\n",
    "\n",
    "*promedio = (suma de los valores) / (numero de los valores)*\n",
    "\n",
    "El promedio nos da una idea general de la tendencia central de nuestro conjunto de datos."
   ]
  },
  {
   "cell_type": "code",
   "execution_count": 1,
   "metadata": {},
   "outputs": [
    {
     "name": "stdout",
     "output_type": "stream",
     "text": [
      "30.0\n"
     ]
    }
   ],
   "source": [
    "#Crear lista de numeros\n",
    "\n",
    "numeros = [10,20,30,40,50]\n",
    "\n",
    "# calcular promedio\n",
    "\n",
    "promedio = sum(numeros)/len(numeros)\n",
    "\n",
    "#Imprimir resultado\n",
    "\n",
    "print(promedio)"
   ]
  },
  {
   "cell_type": "code",
   "execution_count": null,
   "metadata": {},
   "outputs": [],
   "source": [
    "#Pedir al usuario que ingrese numeros\n",
    "numeros = input(\"Ingresa numeros separados por un espacio: \")\n",
    "\n",
    "\n",
    "#Convertir la entrada del usuario en una lista\n",
    "numeros = [float(numero) for numero in numeros.split()]\n",
    "\n",
    "\n",
    "#aplicamos la formula para calcular el promedio\n",
    "promedio = sum(numeros) / len(numeros)\n",
    "\n",
    "\n",
    "#Imprimimos en consola el resultado\n",
    "print(promedio)"
   ]
  },
  {
   "cell_type": "markdown",
   "metadata": {},
   "source": [
    "## **Importancia del Promedio en Ciencia y Análisis de Datos:**\n",
    "\n",
    "El promedio es una herramienta fundamental en la ciencia de datos y el análisis de datos por varias razones:"
   ]
  },
  {
   "cell_type": "markdown",
   "metadata": {},
   "source": [
    "**1.- Conocer la Tendencia central:**\n",
    "\n",
    "El promedio es una medida de tendencia central que proporciona información sobre el valor \"típico\" o \"promedio\" en el conjunto de datos. Permite responder preguntas como \"¿cuál es el valor promedio de las ventas de mi tienda?\" o \"¿cuál es la edad promedio de las personas en un grupo?\"\n",
    "\n",
    "\n",
    "La Tendencia Central es la medida que se utiliza para representar o caracterizar la ubicación central de un conjunto de datos. Es una medida que nos da una idea de dónde se agrupan o concentran los valores en una distribución de datos. La tendencia central es una parte fundamental del análisis de datos y proporciona información sobre el valor \"típico\" en un conjunto de datos.\n",
    "\n"
   ]
  },
  {
   "cell_type": "markdown",
   "metadata": {},
   "source": [
    "**2.- Resumen de Datos:**\n",
    "\n",
    " El promedio proporciona una forma concisa de resumir grandes conjuntos de datos en un solo valor, lo que facilita la comprensión de la tendencia central de los datos."
   ]
  },
  {
   "cell_type": "markdown",
   "metadata": {},
   "source": [
    "**por ejemplo:**\n",
    "\n",
    "Supongamos que eres el gerente de una tienda de electrónica y deseas evaluar el rendimiento de las ventas de un producto específico, un televisor de última generación, durante un año. Tienes los datos de las ventas mensuales en unidades para ese producto. Aquí están los datos de ventas mensuales:"
   ]
  },
  {
   "cell_type": "markdown",
   "metadata": {},
   "source": [
    "Enero: 25 unidades\n",
    "\n",
    "Febrero: 30 unidades\n",
    "\n",
    "Marzo: 40 unidades\n",
    "\n",
    "Abril: 35 unidades\n",
    "\n",
    "Mayo: 50 unidades\n",
    "\n",
    "Junio: 45 unidades\n",
    "\n",
    "Julio: 60 unidades\n",
    "\n",
    "Agosto: 55 unidades\n",
    "\n",
    "Septiembre: 50 unidades\n",
    "\n",
    "Octubre: 40 unidades\n",
    "\n",
    "Noviembre: 30 unidades\n",
    "\n",
    "Diciembre: 25 unidades"
   ]
  },
  {
   "cell_type": "markdown",
   "metadata": {},
   "source": [
    "***Para resumir estos datos y obtener una comprensión rápida de la tendencia central, calculamos el promedio de ventas anuales del producto:***"
   ]
  },
  {
   "cell_type": "markdown",
   "metadata": {},
   "source": [
    "*Promedio = (25 + 30 + 40 + 35 + 50 + 45 + 60 + 55 + 50 + 40 + 30 + 25) / 12*\n",
    "\n",
    "*Promedio = 485 / 12*\n",
    "\n",
    "*Promedio = 40.42 unidades (aproximadamente)*"
   ]
  },
  {
   "cell_type": "code",
   "execution_count": 2,
   "metadata": {},
   "outputs": [],
   "source": [
    "import pandas as pd\n",
    "\n",
    "# Esta línea crea un DataFrame con los datos de ventas mensuales\n",
    "data = {\n",
    "    'Mes': ['Enero', 'Febrero', 'Marzo', 'Abril', 'Mayo', 'Junio', 'Julio', 'Agosto', 'Septiembre', 'Octubre', 'Noviembre', 'Diciembre'],\n",
    "    'Ventas': [25, 30, 40, 35, 50, 45, 60, 55, 50, 40, 30, 25]\n",
    "}\n",
    "\n",
    "df = pd.DataFrame(data)"
   ]
  },
  {
   "cell_type": "code",
   "execution_count": 3,
   "metadata": {},
   "outputs": [
    {
     "name": "stdout",
     "output_type": "stream",
     "text": [
      "El promedio de ventas anuales es: 40.42 unidades por mes\n"
     ]
    }
   ],
   "source": [
    "# Calcular el promedio de ventas anuales\n",
    "promedio_ventas_anuales = df['Ventas'].mean()\n",
    "\n",
    "# Imprimir el resultado\n",
    "print(f'El promedio de ventas anuales es: {promedio_ventas_anuales:.2f} unidades por mes')"
   ]
  },
  {
   "cell_type": "markdown",
   "metadata": {},
   "source": [
    "En este caso, el promedio de ventas anuales para el televisor es de aproximadamente 40.42 unidades por mes. Esto te da una idea de la cantidad promedio de televisores vendidos cada mes a lo largo del año. Lo que te puede ayudar a tomar mejores decisiones para tu negocio, como por ejemplo: contar con entre 40 y 50 televisores en almacen en vez de tener 200 cada mes.\n",
    "\n",
    "Al calcular el promedio, resumimos los datos mensuales en un solo valor representativo que facilita la comprensión de la tendencia central de las ventas de ese producto."
   ]
  },
  {
   "cell_type": "markdown",
   "metadata": {},
   "source": [
    "Este valor promedio es útil para evaluar el rendimiento general del producto a lo largo del año, comparar con otros productos, tomar decisiones sobre el inventario y las estrategias de marketing, y prever las ventas futuras."
   ]
  },
  {
   "cell_type": "markdown",
   "metadata": {},
   "source": [
    "**3.- Comparación y Evaluación:**"
   ]
  },
  {
   "cell_type": "markdown",
   "metadata": {},
   "source": [
    " Permite comparar diferentes grupos de datos y evaluar sus características centrales. Por ejemplo, puedes comparar el promedio de ventas de dos productos para determinar cuál es más exitoso."
   ]
  },
  {
   "cell_type": "markdown",
   "metadata": {},
   "source": [
    "**4.- Pronóstico y Estimación:**"
   ]
  },
  {
   "cell_type": "markdown",
   "metadata": {},
   "source": [
    "En muchas aplicaciones, el promedio se utiliza para estimar valores futuros basados en tendencias pasadas. Por ejemplo, el promedio de ventas mensuales pasadas puede ayudar a prever las ventas futuras."
   ]
  },
  {
   "cell_type": "markdown",
   "metadata": {},
   "source": [
    "\n",
    "**5.- Detección de Anomalías:**"
   ]
  },
  {
   "cell_type": "markdown",
   "metadata": {},
   "source": [
    "Calcular el promedio también es útil para identificar valores atípicos o anomalías. Los valores que se desvían significativamente de la media pueden indicar problemas o puntos de interés."
   ]
  },
  {
   "cell_type": "markdown",
   "metadata": {},
   "source": [
    "**6.- Modelado Estadístico:**"
   ]
  },
  {
   "cell_type": "markdown",
   "metadata": {},
   "source": [
    "En el modelado estadístico, el promedio se utiliza para calibrar y ajustar los modelos a los datos. Puede servir como punto de referencia para la estimación de parámetros."
   ]
  },
  {
   "cell_type": "markdown",
   "metadata": {},
   "source": [
    "**7.- Síntesis y Visualización:**"
   ]
  },
  {
   "cell_type": "markdown",
   "metadata": {},
   "source": [
    "El promedio es un componente común en gráficos y visualizaciones de datos. Puede ayudar a resaltar la tendencia central de un conjunto de datos."
   ]
  },
  {
   "cell_type": "markdown",
   "metadata": {},
   "source": [
    "##Ejercicios"
   ]
  },
  {
   "cell_type": "code",
   "execution_count": 4,
   "metadata": {},
   "outputs": [
    {
     "name": "stdout",
     "output_type": "stream",
     "text": [
      "       Producto  Mes_1  Mes_2  Mes_3  Mes_4  Mes_5  Mes_6\n",
      "0    Producto_1     82     69     89     34     25     63\n",
      "1    Producto_2     66     14     80    100     39     68\n",
      "2    Producto_3     62     80     48     38     91     39\n",
      "3    Producto_4     23     75     76     35     79     57\n",
      "4    Producto_5     70     87     21     88     79     43\n",
      "5    Producto_6     71     69     12     83     37     59\n",
      "6    Producto_7     32     29     86     57     60     64\n",
      "7    Producto_8     17     58     72     94     16     23\n",
      "8    Producto_9     46     62     13     72     24     65\n",
      "9   Producto_10     90     32     82     74     73     99\n",
      "10  Producto_11     71     90     24     20     18     35\n",
      "11  Producto_12     64     98     71     88     68     97\n",
      "12  Producto_13     98     25     41     76     88     34\n",
      "13  Producto_14     59     20     88     71     19     26\n",
      "14  Producto_15     54     88     20     55     14     41\n",
      "15  Producto_16     84     68     46     48     83     97\n",
      "16  Producto_17     17     35     86     97     32     46\n",
      "17  Producto_18     93     49     29     84     58     24\n",
      "18  Producto_19     85    100     75     83     23     73\n",
      "19  Producto_20     65     33     17     82     80     70\n",
      "20  Producto_21     48     46     34     12     12     39\n",
      "21  Producto_22     35    100     23     37     93     43\n",
      "22  Producto_23     25     87     22     13     69     30\n",
      "23  Producto_24     11     41     89     42     24     20\n",
      "24  Producto_25     83     77     53     48     86     19\n",
      "25  Producto_26     36     88     23     86     75     45\n",
      "26  Producto_27     21     66     36     98     30     20\n",
      "27  Producto_28     59     71    100     30     45     32\n",
      "28  Producto_29     20     34     28     96     28     41\n",
      "29  Producto_30     63     54     61     50     12     22\n",
      "30  Producto_31     45     41     92     66     83     33\n",
      "31  Producto_32     27     53     70     30     75     55\n",
      "32  Producto_33     95     40     97     19     82     33\n",
      "33  Producto_34     59     66     59     95     95     28\n",
      "34  Producto_35     96     31     62     43     49     49\n",
      "35  Producto_36     40     73     88     12     80     62\n",
      "36  Producto_37     68    100     79     60     94     42\n",
      "37  Producto_38     89     90     86     73     56     35\n",
      "38  Producto_39     78     18     98     77     73     95\n",
      "39  Producto_40     68     51     83     66     70     43\n",
      "40  Producto_41     71     82     42     76     21     51\n",
      "41  Producto_42     12     40     20     57     11     58\n",
      "42  Producto_43     66     15     70     15     53     57\n",
      "43  Producto_44     54     33     65     82     87     18\n",
      "44  Producto_45     22     95     84     98     63     77\n",
      "45  Producto_46     72     50     82     88     55     75\n",
      "46  Producto_47     58     15     42     20     14     25\n",
      "47  Producto_48     40     12     80     26     13     43\n",
      "48  Producto_49     77     30     17     91     41     22\n",
      "49  Producto_50     93     85     16     43     10     99\n"
     ]
    }
   ],
   "source": [
    "#Ejemplo:\n",
    "\n",
    "import pandas as pd\n",
    "import random\n",
    "\n",
    "# Crear datos ficticios\n",
    "productos = []\n",
    "ventas = {f'Mes_{i}': [] for i in range(1, 7)}\n",
    "\n",
    "for i in range(1, 51):\n",
    "    productos.append(f'Producto_{i}')\n",
    "    for mes in ventas:\n",
    "        ventas[mes].append(random.randint(10, 100))  # Ventas aleatorias entre 10 y 100 unidades\n",
    "\n",
    "# Crear el DataFrame\n",
    "data = {'Producto': productos}\n",
    "data.update(ventas)\n",
    "\n",
    "df_ventas = pd.DataFrame(data)\n",
    "\n",
    "# Mostrar el DataFrame\n",
    "print(df_ventas)"
   ]
  },
  {
   "cell_type": "code",
   "execution_count": 5,
   "metadata": {},
   "outputs": [
    {
     "name": "stdout",
     "output_type": "stream",
     "text": [
      "La venta promedio en el primer semestre fue de $57.6\n"
     ]
    }
   ],
   "source": [
    "\n",
    "c1 = float(df_ventas[\"Mes_1\"].value_counts().sum())\n",
    "c2 = float(df_ventas[\"Mes_2\"].value_counts().sum())\n",
    "c3 = float(df_ventas[\"Mes_3\"].value_counts().sum())\n",
    "c4 = float(df_ventas[\"Mes_4\"].value_counts().sum())\n",
    "c5 = float(df_ventas[\"Mes_5\"].value_counts().sum())\n",
    "c6 = float(df_ventas[\"Mes_6\"].value_counts().sum())\n",
    "\n",
    "C_T = c1 + c2 + c3 + c4 + c5 + c6\n",
    "\n",
    "v_M1 = float(df_ventas[\"Mes_1\"].sum())\n",
    "v_M2 = float(df_ventas[\"Mes_1\"].sum())\n",
    "v_M3 = float(df_ventas[\"Mes_1\"].sum())\n",
    "v_M4 = float(df_ventas[\"Mes_1\"].sum())\n",
    "v_M5 = float(df_ventas[\"Mes_1\"].sum())\n",
    "v_M6 = float(df_ventas[\"Mes_1\"].sum())\n",
    "\n",
    "\n",
    "V_T = v_M1 + v_M2 + v_M3 + v_M4 +v_M5 + v_M6\n",
    "\n",
    "promedio_venta = V_T / C_T\n",
    "print(f\"La venta promedio en el primer semestre fue de ${promedio_venta}\")"
   ]
  },
  {
   "cell_type": "markdown",
   "metadata": {},
   "source": [
    "### Promedio de notas de estudiantes\n",
    "\n",
    "Crea un registro de notas de estudiantes y calcula el promedio de esas notas."
   ]
  },
  {
   "cell_type": "code",
   "execution_count": 1,
   "metadata": {},
   "outputs": [],
   "source": [
    "alumnos_notas = {\n",
    "    \"Luis\": 8.0,\n",
    "    \"Maria\": 9.0,\n",
    "    \"sara\": 9.8,\n",
    "    \"Arturo\": 7.5,\n",
    "    \"Esmeralda\": 8.4,\n",
    "    \"Santiago\": 9.3,\n",
    "    \"Jose\": 8.7,\n",
    "    \"Karla\": 8.1,\n",
    "    \"Felix\": 10.0,\n",
    "    \"Alejandra\": 8.0,\n",
    "    \"Ismael\": 6.0,\n",
    "    \"Isac\": 5.5,\n",
    "    \"Alejandro\": 7.0,\n",
    "    \"Yesenia\": 6.2\n",
    "}"
   ]
  },
  {
   "cell_type": "code",
   "execution_count": 2,
   "metadata": {},
   "outputs": [
    {
     "name": "stdout",
     "output_type": "stream",
     "text": [
      "[8.0, 9.0, 9.8, 7.5, 8.4, 9.3, 8.7, 8.1, 10.0, 8.0, 6.0, 5.5, 7.0, 6.2]\n"
     ]
    }
   ],
   "source": [
    "notas = [i for i in alumnos_notas.values() if isinstance(i,(int, float))]\n",
    "print(notas)"
   ]
  },
  {
   "cell_type": "code",
   "execution_count": 3,
   "metadata": {},
   "outputs": [],
   "source": [
    "promedio = sum(notas) / len(notas)"
   ]
  },
  {
   "cell_type": "code",
   "execution_count": 4,
   "metadata": {},
   "outputs": [
    {
     "name": "stdout",
     "output_type": "stream",
     "text": [
      "la nota romedio de la clase es 7.964285714285714\n"
     ]
    }
   ],
   "source": [
    "print(f\"la nota romedio de la clase es {promedio}\")"
   ]
  },
  {
   "cell_type": "markdown",
   "metadata": {},
   "source": [
    "###Promedio de temperaturas "
   ]
  },
  {
   "cell_type": "markdown",
   "metadata": {},
   "source": [
    "Crea un registro de temperaturas mensuales y calcula el promedio de temperaturas para un año."
   ]
  },
  {
   "cell_type": "code",
   "execution_count": 5,
   "metadata": {},
   "outputs": [],
   "source": [
    "temperatura_mensual = {\n",
    "    \"Enero\": \"22.5°\",\n",
    "    \"Febrero\": \"26.0°\",\n",
    "    \"Marzo\": \"34.2°\",\n",
    "    \"Abril\": \"35.0°\",\n",
    "    \"Mayo\": \"38.8°\",\n",
    "    \"Junio\":\"37.6°\",\n",
    "    \"Julio\": \"37.3°\",\n",
    "    \"Agosto\": \"41.2°\",\n",
    "    \"Septiembre\":\"32.3°\",\n",
    "    \"Octubre\": \"28.1°\",\n",
    "    \"Noviembre\": \"22.2°\",\n",
    "    \"Diciembre\": \"18.5°\"\n",
    "}"
   ]
  },
  {
   "cell_type": "code",
   "execution_count": 6,
   "metadata": {},
   "outputs": [
    {
     "name": "stdout",
     "output_type": "stream",
     "text": [
      "['22.5°', '26.0°', '34.2°', '35.0°', '38.8°', '37.6°', '37.3°', '41.2°', '32.3°', '28.1°', '22.2°', '18.5°']\n"
     ]
    }
   ],
   "source": [
    "registros = [i for i in temperatura_mensual.values()]\n",
    "print(registros)"
   ]
  },
  {
   "cell_type": "code",
   "execution_count": 7,
   "metadata": {},
   "outputs": [
    {
     "name": "stdout",
     "output_type": "stream",
     "text": [
      "[22.5, 26.0, 34.2, 35.0, 38.8, 37.6, 37.3, 41.2, 32.3, 28.1, 22.2, 18.5]\n"
     ]
    }
   ],
   "source": [
    "registros_num = []\n",
    "\n",
    "for registro in registros:\n",
    "  i_num = float(registro.replace(\"°\",\"\"))\n",
    "  registros_num.append(i_num)\n",
    "\n",
    "print(registros_num)"
   ]
  },
  {
   "cell_type": "code",
   "execution_count": 8,
   "metadata": {},
   "outputs": [
    {
     "name": "stdout",
     "output_type": "stream",
     "text": [
      "En Tierra Falsa durante 2023 la temperatura promedio fue de 31.141666666666666° en grados falsos\n"
     ]
    }
   ],
   "source": [
    "promedio_tem_anual = sum(registros_num) / len(registros_num)\n",
    "\n",
    "print(f\"En Tierra Falsa durante 2023 la temperatura promedio fue de {promedio_tem_anual}° en grados falsos\")"
   ]
  },
  {
   "cell_type": "markdown",
   "metadata": {},
   "source": [
    "###Edad promedio de personas\n"
   ]
  },
  {
   "cell_type": "markdown",
   "metadata": {},
   "source": [
    "Estas en una sala de espera de un hospital y necesitas conocer informacion de los asistentes para poder canalizarlos o saber a quien darles preferencia en la atención ya que por el momento hay poco personal y muchas personas. Crea un registro de personas en la sala de espera que incluya sus edades y calcula el promedio de edad del grupo"
   ]
  },
  {
   "cell_type": "code",
   "execution_count": 9,
   "metadata": {},
   "outputs": [],
   "source": [
    "ficha_paciente = {\n",
    "    \"Luisa\": 85,\n",
    "    \"Perla\": 45,\n",
    "    \"Diego\": 29,\n",
    "    \"Juan\": 45,\n",
    "    \"Sarai\": 23,\n",
    "    \"Eduardo\": 19,\n",
    "    \"Mario\": 67,\n",
    "    \"Pablo\":33,\n",
    "    \"Esperanza\":38,\n",
    "    \"Marlene\": 65,\n",
    "    \"Isabel\": 18,\n",
    "    \"Ignacio\": 23,\n",
    "    \"Gaudalupe\": 58,\n",
    "    \"Irlanda\": 23,\n",
    "    \"Juan Diego\": 29,\n",
    "    \"Jose\": 45,\n",
    "    \"Iker\": 19,\n",
    "\n",
    "}"
   ]
  },
  {
   "cell_type": "code",
   "execution_count": 10,
   "metadata": {},
   "outputs": [
    {
     "data": {
      "text/plain": [
       "[85, 45, 29, 45, 23, 19, 67, 33, 38, 65, 18, 23, 58, 23, 29, 45, 19]"
      ]
     },
     "execution_count": 10,
     "metadata": {},
     "output_type": "execute_result"
    }
   ],
   "source": [
    "edades = [i for i in ficha_paciente.values()]\n",
    "edades"
   ]
  },
  {
   "cell_type": "code",
   "execution_count": 11,
   "metadata": {},
   "outputs": [
    {
     "name": "stdout",
     "output_type": "stream",
     "text": [
      "El promedio de edad entre los pacientes es de 39 años\n"
     ]
    }
   ],
   "source": [
    "promedio_edad = round(sum(edades) /len(edades))\n",
    "\n",
    "print(f\"El promedio de edad entre los pacientes es de {promedio_edad} años\")"
   ]
  }
 ],
 "metadata": {
  "kernelspec": {
   "display_name": "venv_jupiter",
   "language": "python",
   "name": "python3"
  },
  "language_info": {
   "codemirror_mode": {
    "name": "ipython",
    "version": 3
   },
   "file_extension": ".py",
   "mimetype": "text/x-python",
   "name": "python",
   "nbconvert_exporter": "python",
   "pygments_lexer": "ipython3",
   "version": "3.7.3"
  }
 },
 "nbformat": 4,
 "nbformat_minor": 2
}
