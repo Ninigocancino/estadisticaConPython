{
 "cells": [
  {
   "cell_type": "markdown",
   "metadata": {},
   "source": [
    "# Definición de la desviación estandar"
   ]
  },
  {
   "cell_type": "markdown",
   "metadata": {},
   "source": [
    "La desviación estándar es una medida de dispersión que indica cuánto se alejan los valores de un conjunto de datos respecto a la media. En otras palabras, te dice qué tan dispersos están los datos alrededor de la media.\n",
    "\n",
    "Como medidad de dispersión, te permite entender qué tan dispersos están los datos alrededor de la media. Una desviación estándar grande indica una mayor variabilidad en los datos, mientras que una más pequeña muestra que los datos están más cercanos a la media.\n",
    "\n",
    "Además puede ayudar a identificar valores atípicos o anomalías en un conjunto de datos. Valores que se desvían significativamente de la media pueden ser indicativos de errores o de información relevante que merece una atención especial.\n",
    "\n",
    "Y es útil para comparar la dispersión entre diferentes conjuntos de datos. Por ejemplo, si estás comparando la variabilidad de ingresos en dos regiones, la desviación estándar te dará una idea de qué región tiene ingresos más variables."
   ]
  },
  {
   "cell_type": "markdown",
   "metadata": {},
   "source": [
    "Para calcular calcular la desviación estandar, debes seguir los siguientes pasos.\n",
    "\n",
    "**Calcula la media:** Suma todos los valores y divide por la cantidad de elementos en tu conjunto de datos.\n",
    "\n",
    "**Resta la media:** Para cada valor en el conjunto de datos, resta la media.\n",
    "\n",
    "**Eleva al cuadrado:** Toma cada uno de esos resultados y eleva al cuadrado.\n",
    "\n",
    "**Calcula la media de los cuadrados:** Encuentra la media de esos valores al cuadrado.\n",
    "\n",
    "**Obtén la raíz cuadrada:** Finalmente, saca la raíz cuadrada de ese valor.\n",
    "\n"
   ]
  },
  {
   "cell_type": "markdown",
   "metadata": {},
   "source": [
    "Así, por ejemplo:\n",
    "\n",
    "Imagina que tienes dos conjuntos de datos que representan la cantidad de lluvia mensual en dos regiones diferentes.\n",
    "\n",
    "Región A: 20, 25, 18, 22, 21 (mm de lluvia)\n",
    "Región B: 10, 40, 15, 35, 20 (mm de lluvia)"
   ]
  },
  {
   "cell_type": "markdown",
   "metadata": {},
   "source": [
    "En el ejemplo:\n",
    "\n",
    "En la Región A, la media es 21.2 mm. Si calculas la desviación estándar, podrías encontrar que la mayoría de los valores están cerca de 21.2 mm, lo que indica una baja dispersión.\n",
    "\n",
    "Para la Región B, la media es 24 mm. Si calculas la desviación estándar, podrías descubrir que los valores se alejan más de 24 mm, lo que indica una mayor dispersión.\n"
   ]
  },
  {
   "cell_type": "markdown",
   "metadata": {},
   "source": [
    "Lo que significa que: \n",
    "\n",
    "La región A tiene una desviación estándar más baja en comparación con la región B. Esto indica que, en promedio, la cantidad de lluvia en la región A tiende a ser más consistente, es decir, los valores están más cerca de la media mensual. En términos simples, llueve más consistentemente en la región A.\n",
    "\n",
    "Por otro lado, la región B tiene una desviación estándar más alta, lo que indica que la cantidad de lluvia varía más en comparación con la media. En términos sencillos, hay una mayor variabilidad en la cantidad de lluvia en la región B. Puede haber meses con lluvias muy escasas y otros con lluvias más intensas en comparación con la media mensual."
   ]
  },
  {
   "cell_type": "markdown",
   "metadata": {},
   "source": [
    "# ¿Cómo podemos calcular la desviación estandar en Python?"
   ]
  },
  {
   "cell_type": "markdown",
   "metadata": {},
   "source": [
    "En Pytho podemos calcular la desvicación estandar usando Python puro o echando mano de las multiples bibliotecas que integran funciones para dicha tarea.\n",
    "\n",
    "Acontinuación usaremos el ejemplo expuesto anteriormente para explorar la forma de realizar este cálculo usando las de Python más populares para análisis de datos."
   ]
  },
  {
   "cell_type": "markdown",
   "metadata": {},
   "source": [
    "Lo primero será organizar nuestros datos en una estructura que nos permita trabajar con las librerias."
   ]
  },
  {
   "cell_type": "code",
   "execution_count": 3,
   "metadata": {},
   "outputs": [],
   "source": [
    "#Agruparemos nuestros datos en dos listas\n",
    "\n",
    "region_A = [20,25,18,22,21]\n",
    "region_B = [10,40,15,35,20]"
   ]
  },
  {
   "cell_type": "markdown",
   "metadata": {},
   "source": [
    "## Usando Python puro"
   ]
  },
  {
   "cell_type": "markdown",
   "metadata": {},
   "source": [
    "Una vez agrupaos nuestros datos usaremos python para realizar las operaciones necesarias para calcular la desviación estnadar. "
   ]
  },
  {
   "cell_type": "code",
   "execution_count": 15,
   "metadata": {},
   "outputs": [],
   "source": [
    "import math"
   ]
  },
  {
   "cell_type": "markdown",
   "metadata": {},
   "source": [
    "*Calcular la media:*"
   ]
  },
  {
   "cell_type": "code",
   "execution_count": 16,
   "metadata": {},
   "outputs": [
    {
     "name": "stdout",
     "output_type": "stream",
     "text": [
      " La media de la region A es 21.2\n"
     ]
    }
   ],
   "source": [
    "media_A = sum(region_A) / len(region_A)\n",
    "print(f\" La media de la region A es {media_A}\")"
   ]
  },
  {
   "cell_type": "code",
   "execution_count": 17,
   "metadata": {},
   "outputs": [
    {
     "name": "stdout",
     "output_type": "stream",
     "text": [
      " La media de la region B es 24.0\n"
     ]
    }
   ],
   "source": [
    "media_B = sum(region_B) / len(region_B)\n",
    "print(f\" La media de la region B es {media_B}\")"
   ]
  },
  {
   "cell_type": "markdown",
   "metadata": {},
   "source": [
    "*Calcular la varianza*"
   ]
  },
  {
   "cell_type": "code",
   "execution_count": 18,
   "metadata": {},
   "outputs": [],
   "source": [
    "varianza_A = sum((x - media_A) ** 2 for x in region_A) / len(region_A)"
   ]
  },
  {
   "cell_type": "code",
   "execution_count": 19,
   "metadata": {},
   "outputs": [],
   "source": [
    "varianza_B = sum((x - media_B) ** 2 for x in region_B) / len(region_B)"
   ]
  },
  {
   "cell_type": "code",
   "execution_count": 20,
   "metadata": {},
   "outputs": [
    {
     "name": "stdout",
     "output_type": "stream",
     "text": [
      "Desviación estándar de la región A: 2.315167380558045\n"
     ]
    }
   ],
   "source": [
    "#Calcular la media de los cuadrados y obtener la raíz cuadrada*\n",
    "\n",
    "\n",
    "desviacion_estandar_A = math.sqrt(varianza_A)\n",
    "print(\"Desviación estándar de la región A:\", desviacion_estandar_A)"
   ]
  },
  {
   "cell_type": "code",
   "execution_count": 21,
   "metadata": {},
   "outputs": [
    {
     "name": "stdout",
     "output_type": "stream",
     "text": [
      "Desviación estándar de la región B: 11.575836902790225\n"
     ]
    }
   ],
   "source": [
    "desviacion_estandar_B = math.sqrt(varianza_B)\n",
    "print(\"Desviación estándar de la región B:\", desviacion_estandar_B)"
   ]
  },
  {
   "cell_type": "markdown",
   "metadata": {},
   "source": [
    "# Usando NumPy"
   ]
  },
  {
   "cell_type": "markdown",
   "metadata": {},
   "source": [
    "Lo primero es importar la librería numpy en nuestro proyecto"
   ]
  },
  {
   "cell_type": "code",
   "execution_count": 4,
   "metadata": {},
   "outputs": [],
   "source": [
    "import numpy as np"
   ]
  },
  {
   "cell_type": "markdown",
   "metadata": {},
   "source": [
    "En numpy usamos la función std y la llamamos de esta forma:\n",
    "\n",
    "*np.std(conjunto_de_datos)*"
   ]
  },
  {
   "cell_type": "code",
   "execution_count": 5,
   "metadata": {},
   "outputs": [
    {
     "name": "stdout",
     "output_type": "stream",
     "text": [
      "Desviación estándar de la región A (NumPy): 2.315167380558045\n"
     ]
    }
   ],
   "source": [
    "desviacion_estandar_A_np = np.std(region_A)\n",
    "print(\"Desviación estándar de la región A (NumPy):\", desviacion_estandar_A_np)"
   ]
  },
  {
   "cell_type": "code",
   "execution_count": 6,
   "metadata": {},
   "outputs": [
    {
     "name": "stdout",
     "output_type": "stream",
     "text": [
      "Desviación estándar de la región B (NumPy): 11.575836902790225\n"
     ]
    }
   ],
   "source": [
    "desviacion_estandar_B_np = np.std(region_B)\n",
    "print(\"Desviación estándar de la región B (NumPy):\", desviacion_estandar_B_np)"
   ]
  },
  {
   "cell_type": "markdown",
   "metadata": {},
   "source": [
    "# Usando Pandas"
   ]
  },
  {
   "cell_type": "markdown",
   "metadata": {},
   "source": [
    "Primero importamos la librería Pandas a nuestro proyecto"
   ]
  },
  {
   "cell_type": "code",
   "execution_count": 7,
   "metadata": {},
   "outputs": [],
   "source": [
    "import pandas as pd"
   ]
  },
  {
   "cell_type": "markdown",
   "metadata": {},
   "source": [
    "En Pandas debemos convertir nuestro conjunto de datos en una serie de Pandas "
   ]
  },
  {
   "cell_type": "code",
   "execution_count": 8,
   "metadata": {},
   "outputs": [],
   "source": [
    "serie_A = pd.Series(region_A)\n",
    "serie_B = pd.Series(region_B)"
   ]
  },
  {
   "cell_type": "markdown",
   "metadata": {},
   "source": [
    "Similar a Numpy, Pandas nos provee de la función std para calcular de manera rápida la desviación estandar"
   ]
  },
  {
   "cell_type": "code",
   "execution_count": 9,
   "metadata": {},
   "outputs": [
    {
     "name": "stdout",
     "output_type": "stream",
     "text": [
      "Desviación estándar de la región A (Pandas): 2.588435821108957\n"
     ]
    }
   ],
   "source": [
    "desviacion_estandar_A_pd = serie_A.std()\n",
    "print(\"Desviación estándar de la región A (Pandas):\", desviacion_estandar_A_pd)"
   ]
  },
  {
   "cell_type": "code",
   "execution_count": 10,
   "metadata": {},
   "outputs": [
    {
     "name": "stdout",
     "output_type": "stream",
     "text": [
      "Desviación estándar de la región B (Pandas): 12.942179105544785\n"
     ]
    }
   ],
   "source": [
    "desviacion_estandar_B_pd = serie_B.std()\n",
    "print(\"Desviación estándar de la región B (Pandas):\", desviacion_estandar_B_pd)"
   ]
  },
  {
   "cell_type": "markdown",
   "metadata": {},
   "source": [
    "# Usando Statistics"
   ]
  },
  {
   "cell_type": "markdown",
   "metadata": {},
   "source": [
    "Python cuenta con una potente librería especializada en la relización de cálculos estadístico y como cualquier librería en Python, el primer paso es importarla a nuestro proyecto."
   ]
  },
  {
   "cell_type": "code",
   "execution_count": 11,
   "metadata": {},
   "outputs": [],
   "source": [
    "import statistics"
   ]
  },
  {
   "cell_type": "markdown",
   "metadata": {},
   "source": [
    "Statistics nos permite calcular la desvicación estandar de forma sencilla a través de la función  stdev, la cual llamamos de la siguiente forma:\n",
    "\n",
    "*statistics.stdev(conjunto_de_datos)*"
   ]
  },
  {
   "cell_type": "code",
   "execution_count": 12,
   "metadata": {},
   "outputs": [
    {
     "name": "stdout",
     "output_type": "stream",
     "text": [
      "Desviación estándar de la región A (statistics): 2.588435821108957\n"
     ]
    }
   ],
   "source": [
    "desviacion_estandar_A_st = statistics.stdev(region_A)\n",
    "print(\"Desviación estándar de la región A (statistics):\", desviacion_estandar_A_st)"
   ]
  },
  {
   "cell_type": "code",
   "execution_count": 13,
   "metadata": {},
   "outputs": [
    {
     "name": "stdout",
     "output_type": "stream",
     "text": [
      "Desviación estándar de la región B (statistics): 12.942179105544785\n"
     ]
    }
   ],
   "source": [
    "desviacion_estandar_B_st = statistics.stdev(region_B)\n",
    "print(\"Desviación estándar de la región B (statistics):\", desviacion_estandar_B_st)"
   ]
  },
  {
   "cell_type": "markdown",
   "metadata": {},
   "source": [
    "# Usando Scikit-learn "
   ]
  },
  {
   "cell_type": "markdown",
   "metadata": {},
   "source": [
    "Scikit-learn es una librería muy poderosa generalmente usada para machine learning, pero también puede calcular estadísticas básicas.\n",
    "\n",
    "Como las otras librerías para trabajar con Scikit-learn lo primero es importarla a nuestro proyecto, aunqué la forma de hacer esto, en este caso varia un poco con respecto a las librerías que hemos revisado anteriormente.\n",
    "\n"
   ]
  },
  {
   "cell_type": "code",
   "execution_count": 14,
   "metadata": {},
   "outputs": [],
   "source": [
    "from sklearn.preprocessing import StandardScaler"
   ]
  },
  {
   "cell_type": "markdown",
   "metadata": {},
   "source": [
    "En scikit-learn podemos usar la función 'StandardScaler' y pasarle los parametros 'with_std=True' (esto indica que se calculará la desviación estandar)  y 'with_mean=False' (especifica que no se restará la media antes de escalar, ya que solo estamos interesados en la desviación estándar) para calcular la desviación estandar."
   ]
  },
  {
   "cell_type": "code",
   "execution_count": 15,
   "metadata": {},
   "outputs": [],
   "source": [
    "scaler = StandardScaler(with_std=True, with_mean=False)"
   ]
  },
  {
   "cell_type": "markdown",
   "metadata": {},
   "source": [
    "En Sckikit-lear usamos el método fit_transform que ajusta el StandardScaler al conjunto de datos y luego lo transforma. Se le pasa region_A como una lista (se necesita una matriz 2D), y se realiza la transformación. En este caso, como no se está restando la media, simplemente se está calculando la desviación estándar.\n",
    "\n",
    "Y por último le indicamos con '[0].std()' que acceda al primer elemento de la matriz transformada (ya que fit_transform devuelve una lista de listas) y se calcula la desviación estándar de esos valores con el método   .std(), que es un método de la librería NumPy aplicado a esa lista."
   ]
  },
  {
   "cell_type": "code",
   "execution_count": 16,
   "metadata": {},
   "outputs": [
    {
     "name": "stdout",
     "output_type": "stream",
     "text": [
      "Desviación estándar de la región A (Scikit-learn): 2.315167380558045\n"
     ]
    }
   ],
   "source": [
    "desviacion_estandar_A_skl = scaler.fit_transform([region_A])[0].std()\n",
    "print(\"Desviación estándar de la región A (Scikit-learn):\", desviacion_estandar_A_skl)"
   ]
  },
  {
   "cell_type": "code",
   "execution_count": 17,
   "metadata": {},
   "outputs": [
    {
     "name": "stdout",
     "output_type": "stream",
     "text": [
      "Desviación estándar de la región B (Scikit-learn): 11.575836902790225\n"
     ]
    }
   ],
   "source": [
    "desviacion_estandar_B_skl = scaler.fit_transform([region_B])[0].std()\n",
    "print(\"Desviación estándar de la región B (Scikit-learn):\", desviacion_estandar_B_skl)"
   ]
  }
 ],
 "metadata": {
  "kernelspec": {
   "display_name": "venv_jupiter",
   "language": "python",
   "name": "python3"
  },
  "language_info": {
   "codemirror_mode": {
    "name": "ipython",
    "version": 3
   },
   "file_extension": ".py",
   "mimetype": "text/x-python",
   "name": "python",
   "nbconvert_exporter": "python",
   "pygments_lexer": "ipython3",
   "version": "3.7.3"
  }
 },
 "nbformat": 4,
 "nbformat_minor": 2
}
