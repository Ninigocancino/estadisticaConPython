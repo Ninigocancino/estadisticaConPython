{
 "cells": [
  {
   "cell_type": "markdown",
   "metadata": {},
   "source": [
    "# Definición de la desviación estandar"
   ]
  },
  {
   "cell_type": "markdown",
   "metadata": {},
   "source": [
    "La desviación estándar es una medida de dispersión que indica cuánto se alejan los valores de un conjunto de datos respecto a la media. En otras palabras, te dice qué tan dispersos están los datos alrededor de la media.\n",
    "\n",
    "Como medidad de dispersión, te permite entender qué tan dispersos están los datos alrededor de la media. Una desviación estándar grande indica una mayor variabilidad en los datos, mientras que una más pequeña muestra que los datos están más cercanos a la media.\n",
    "\n",
    "Además puede ayudar a identificar valores atípicos o anomalías en un conjunto de datos. Valores que se desvían significativamente de la media pueden ser indicativos de errores o de información relevante que merece una atención especial.\n",
    "\n",
    "Y es útil para comparar la dispersión entre diferentes conjuntos de datos. Por ejemplo, si estás comparando la variabilidad de ingresos en dos regiones, la desviación estándar te dará una idea de qué región tiene ingresos más variables."
   ]
  },
  {
   "cell_type": "markdown",
   "metadata": {},
   "source": [
    "Para calcular calcular la desviación estandar, debes seguir los siguientes pasos.\n",
    "\n",
    "**Calcula la media:** Suma todos los valores y divide por la cantidad de elementos en tu conjunto de datos.\n",
    "\n",
    "**Resta la media:** Para cada valor en el conjunto de datos, resta la media.\n",
    "\n",
    "**Eleva al cuadrado:** Toma cada uno de esos resultados y eleva al cuadrado.\n",
    "\n",
    "**Calcula la media de los cuadrados:** Encuentra la media de esos valores al cuadrado.\n",
    "\n",
    "**Obtén la raíz cuadrada:** Finalmente, saca la raíz cuadrada de ese valor.\n",
    "\n"
   ]
  },
  {
   "cell_type": "markdown",
   "metadata": {},
   "source": [
    "Así, por ejemplo:\n",
    "\n",
    "Imagina que tienes dos conjuntos de datos que representan la cantidad de lluvia mensual en dos regiones diferentes.\n",
    "\n",
    "Región A: 20, 25, 18, 22, 21 (mm de lluvia)\n",
    "Región B: 10, 40, 15, 35, 20 (mm de lluvia)"
   ]
  },
  {
   "cell_type": "markdown",
   "metadata": {},
   "source": [
    "En el ejemplo:\n",
    "\n",
    "En la Región A, la media es 21.2 mm. Si calculas la desviación estándar, podrías encontrar que la mayoría de los valores están cerca de 21.2 mm, lo que indica una baja dispersión.\n",
    "\n",
    "Para la Región B, la media es 24 mm. Si calculas la desviación estándar, podrías descubrir que los valores se alejan más de 24 mm, lo que indica una mayor dispersión.\n"
   ]
  },
  {
   "cell_type": "markdown",
   "metadata": {},
   "source": [
    "Lo que significa que: \n",
    "\n",
    "La región A tiene una desviación estándar más baja en comparación con la región B. Esto indica que, en promedio, la cantidad de lluvia en la región A tiende a ser más consistente, es decir, los valores están más cerca de la media mensual. En términos simples, llueve más consistentemente en la región A.\n",
    "\n",
    "Por otro lado, la región B tiene una desviación estándar más alta, lo que indica que la cantidad de lluvia varía más en comparación con la media. En términos sencillos, hay una mayor variabilidad en la cantidad de lluvia en la región B. Puede haber meses con lluvias muy escasas y otros con lluvias más intensas en comparación con la media mensual."
   ]
  },
  {
   "cell_type": "markdown",
   "metadata": {},
   "source": [
    "# ¿Cómo podemos calcular la desviación estandar en Python?"
   ]
  },
  {
   "cell_type": "markdown",
   "metadata": {},
   "source": [
    "En Pytho podemos calcular la desvicación estandar usando Python puro o echando mano de las multiples bibliotecas que integran funciones para dicha tarea.\n",
    "\n",
    "Acontinuación usaremos el ejemplo expuesto anteriormente para explorar la forma de realizar este cálculo usando las de Python más populares para análisis de datos."
   ]
  },
  {
   "cell_type": "markdown",
   "metadata": {},
   "source": [
    "Lo primero será organizar nuestros datos en una estructura que nos permita trabajar con las librerias."
   ]
  },
  {
   "cell_type": "code",
   "execution_count": 14,
   "metadata": {},
   "outputs": [],
   "source": [
    "#Agruparemos nuestros datos en dos listas\n",
    "\n",
    "region_A = [20,25,18,22,21]\n",
    "region_B = [10,40,15,35,20]"
   ]
  },
  {
   "cell_type": "markdown",
   "metadata": {},
   "source": [
    "## Usando Python puro"
   ]
  },
  {
   "cell_type": "markdown",
   "metadata": {},
   "source": [
    "Una vez agrupaos nuestros datos usaremos python para realizar las operaciones necesarias para calcular la desviación estnadar. "
   ]
  },
  {
   "cell_type": "code",
   "execution_count": 15,
   "metadata": {},
   "outputs": [],
   "source": [
    "import math"
   ]
  },
  {
   "cell_type": "markdown",
   "metadata": {},
   "source": [
    "*Calcular la media:*"
   ]
  },
  {
   "cell_type": "code",
   "execution_count": 16,
   "metadata": {},
   "outputs": [
    {
     "name": "stdout",
     "output_type": "stream",
     "text": [
      " La media de la region A es 21.2\n"
     ]
    }
   ],
   "source": [
    "media_A = sum(region_A) / len(region_A)\n",
    "print(f\" La media de la region A es {media_A}\")"
   ]
  },
  {
   "cell_type": "code",
   "execution_count": 17,
   "metadata": {},
   "outputs": [
    {
     "name": "stdout",
     "output_type": "stream",
     "text": [
      " La media de la region B es 24.0\n"
     ]
    }
   ],
   "source": [
    "media_B = sum(region_B) / len(region_B)\n",
    "print(f\" La media de la region B es {media_B}\")"
   ]
  },
  {
   "cell_type": "markdown",
   "metadata": {},
   "source": [
    "*Calcular la varianza*"
   ]
  },
  {
   "cell_type": "code",
   "execution_count": 18,
   "metadata": {},
   "outputs": [],
   "source": [
    "varianza_A = sum((x - media_A) ** 2 for x in region_A) / len(region_A)"
   ]
  },
  {
   "cell_type": "code",
   "execution_count": 19,
   "metadata": {},
   "outputs": [],
   "source": [
    "varianza_B = sum((x - media_B) ** 2 for x in region_B) / len(region_B)"
   ]
  },
  {
   "cell_type": "code",
   "execution_count": 20,
   "metadata": {},
   "outputs": [
    {
     "name": "stdout",
     "output_type": "stream",
     "text": [
      "Desviación estándar de la región A: 2.315167380558045\n"
     ]
    }
   ],
   "source": [
    "#Calcular la media de los cuadrados y obtener la raíz cuadrada*\n",
    "\n",
    "\n",
    "desviacion_estandar_A = math.sqrt(varianza_A)\n",
    "print(\"Desviación estándar de la región A:\", desviacion_estandar_A)"
   ]
  },
  {
   "cell_type": "code",
   "execution_count": 21,
   "metadata": {},
   "outputs": [
    {
     "name": "stdout",
     "output_type": "stream",
     "text": [
      "Desviación estándar de la región B: 11.575836902790225\n"
     ]
    }
   ],
   "source": [
    "desviacion_estandar_B = math.sqrt(varianza_B)\n",
    "print(\"Desviación estándar de la región B:\", desviacion_estandar_B)"
   ]
  }
 ],
 "metadata": {
  "kernelspec": {
   "display_name": "venv_jupiter",
   "language": "python",
   "name": "python3"
  },
  "language_info": {
   "codemirror_mode": {
    "name": "ipython",
    "version": 3
   },
   "file_extension": ".py",
   "mimetype": "text/x-python",
   "name": "python",
   "nbconvert_exporter": "python",
   "pygments_lexer": "ipython3",
   "version": "3.7.3"
  }
 },
 "nbformat": 4,
 "nbformat_minor": 2
}
