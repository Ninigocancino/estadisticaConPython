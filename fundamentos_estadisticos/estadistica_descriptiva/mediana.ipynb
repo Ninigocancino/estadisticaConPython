{
 "cells": [
  {
   "cell_type": "markdown",
   "metadata": {},
   "source": [
    "## Definición de la Mediana"
   ]
  },
  {
   "cell_type": "markdown",
   "metadata": {},
   "source": [
    "La mediana es el valor que se encuentra en el centro de un conjunto de datos cuando estos se organizan en orden ascendente o descendente. A diferencia de la media aritmética, que se calcula sumando todos los valores y dividiéndolos por el número de observaciones, la mediana no se ve afectada por valores extremos (valores atípicos o outliers) en el conjunto de datos, lo que la hace útil en situaciones donde los datos pueden ser sesgados."
   ]
  },
  {
   "cell_type": "markdown",
   "metadata": {},
   "source": [
    "Para calcular la mediana debemos ordenar los datos en forma descendente o ascendente. Así si, el número de observaciones(n) es impar la mediana será el valor que se encuentre en la posición central, pero si el numero de observaciones es par, la mediana será el promedio de los dos valores que se encuentren en la posición central de la ordenación. \n",
    "\n",
    "Por ejemplo:"
   ]
  },
  {
   "cell_type": "markdown",
   "metadata": {},
   "source": [
    "En (n) impar\n",
    "\n",
    "1,2,3,4,5\n",
    "\n",
    "la mediana de este conjunto de datos es 3"
   ]
  },
  {
   "cell_type": "markdown",
   "metadata": {},
   "source": [
    "En (n) par\n",
    "\n",
    "10,20,30,40\n",
    "\n",
    "la mediana de este conjunto de datos será 25\n",
    "\n"
   ]
  },
  {
   "cell_type": "markdown",
   "metadata": {},
   "source": [
    "## Utilidad de la mediana en ciencia de datos "
   ]
  },
  {
   "cell_type": "markdown",
   "metadata": {},
   "source": [
    "La mediana es de gran utilidad para analizar datos principlamente por estás tres razones:\n"
   ]
  },
  {
   "cell_type": "markdown",
   "metadata": {},
   "source": [
    "**Robustez a valores atípicos:** \n",
    "\n",
    "Como se menciona anteriormente, la mediana es menos sensible a valores extremos en comparación con la media(promedio). Esto significa que la mediana es una medida más robusta de la tendencia central en presencia de datos atípicos.\n",
    "\n",
    "Por ejemplo:\n",
    "\n",
    "\n",
    "Supongamos que estás analizando los salarios de los empleados de una empresa. La mayoría de los empleados ganan sueldos en el rango de $30,000 a $80,000 al año, pero hay un CEO que gana $5,000,000 al año. Si calculas la media de los salarios, el valor del CEO inflará significativamente la media, haciéndola poco representativa de los salarios típicos. En cambio, si calculas la mediana de los salarios, esta se verá menos afectada por el valor extremo del CEO y proporcionará una mejor representación de lo que ganan la mayoría de los empleados.\n",
    "\n"
   ]
  },
  {
   "cell_type": "markdown",
   "metadata": {},
   "source": [
    "**Distribuciones asimétricas:**\n",
    "\n",
    "En distribuciones sesgadas o asimétricas, la mediana proporciona una mejor representación de la ubicación central de los datos que la media, que puede verse influenciada por la cola larga de la distribución.\n",
    "\n",
    "Por ejemplo: \n",
    "\n",
    "\n",
    "Imagina que estás analizando los tiempos de espera en una sala de urgencias de un hospital. La mayoría de los pacientes espera menos de una hora, pero algunos pacientes con condiciones críticas pueden esperar varias horas. En este caso, la distribución de los tiempos de espera es asimétrica hacia la derecha, con una cola larga de pacientes que esperan mucho más tiempo que la mayoría. Si calculas la media de los tiempos de espera, esta se verá influida por los largos tiempos de espera de unos pocos pacientes, lo que no reflejará adecuadamente la experiencia típica de espera en la sala de urgencias. La mediana, en cambio, proporcionará una estimación más representativa del tiempo de espera mediano.\n",
    "\n"
   ]
  },
  {
   "cell_type": "markdown",
   "metadata": {},
   "source": [
    "**Datos ordinales:**\n",
    "\n",
    "La mediana es especialmente útil cuando se trabajan con datos ordinales, es decir, datos que se pueden ordenar pero no se pueden someter a operaciones matemáticas.\n",
    "\n",
    "\n",
    "Por ejemplo:\n",
    "\n",
    "\n",
    "Supongamos que estás realizando una encuesta en la que los participantes deben calificar su satisfacción con un producto en una escala de 1 a 5, donde 1 representa \"muy insatisfecho\" y 5 representa \"muy satisfecho\". Después de recopilar las respuestas, quieres resumir la satisfacción promedio de los participantes. En este caso, los datos son ordinales, ya que no se pueden realizar operaciones matemáticas significativas con las calificaciones. Calcular la media en este contexto no tendría sentido, pero calcular la mediana te proporcionaría una idea de cuál es la calificación central, lo que podría ayudarte a entender mejor la satisfacción promedio de los participantes."
   ]
  },
  {
   "cell_type": "markdown",
   "metadata": {},
   "source": [
    "## ¿Cómo calcular la mediana usando Python?"
   ]
  },
  {
   "cell_type": "markdown",
   "metadata": {},
   "source": [
    "La versatilidad de Python nos permite trabajar con la mediana desde diferentes enfoques y haciendo uso de diferentes herramientas. "
   ]
  },
  {
   "cell_type": "markdown",
   "metadata": {},
   "source": [
    "**Usando Python puro**\n",
    "\n",
    "Para calcular la mediana en Python puro, primero debes ordenar tus datos y luego encontrar el valor en el medio (o el promedio de los dos valores centrales si el número de datos es par). Aquí tienes un ejemplo:"
   ]
  },
  {
   "cell_type": "code",
   "execution_count": null,
   "metadata": {},
   "outputs": [],
   "source": [
    "datos = [5, 8, 10, 15, 20]\n",
    "\n",
    "# Primero, ordena los datos\n",
    "datos_ordenados = sorted(datos)\n",
    "\n",
    "# Calcula la mediana\n",
    "n = len(datos_ordenados)\n",
    "if n % 2 == 0:\n",
    "    # Si el número de datos es par, toma el promedio de los dos valores centrales\n",
    "    mediana = (datos_ordenados[n // 2 - 1] + datos_ordenados[n // 2]) / 2\n",
    "else:\n",
    "    # Si el número de datos es impar, toma el valor del medio\n",
    "    mediana = datos_ordenados[n // 2]\n",
    "\n",
    "print(\"Mediana:\", mediana)\n"
   ]
  },
  {
   "cell_type": "markdown",
   "metadata": {},
   "source": [
    "**Usando Numpy**"
   ]
  },
  {
   "cell_type": "markdown",
   "metadata": {},
   "source": [
    "NumPy proporciona una forma sencilla de calcular la mediana. Aquí tienes un ejemplo:"
   ]
  },
  {
   "cell_type": "code",
   "execution_count": null,
   "metadata": {},
   "outputs": [],
   "source": [
    "import numpy as np\n",
    "\n",
    "datos = np.array([5, 8, 10, 15, 20])\n",
    "mediana = np.median(datos)\n",
    "\n",
    "print(\"Mediana:\", mediana)\n"
   ]
  },
  {
   "cell_type": "markdown",
   "metadata": {},
   "source": [
    "**Usando Pandas**\n"
   ]
  },
  {
   "cell_type": "markdown",
   "metadata": {},
   "source": [
    "Si estás trabajando con datos tabulares en pandas, puedes calcular la mediana en una Serie de pandas de la siguiente manera:"
   ]
  },
  {
   "cell_type": "code",
   "execution_count": null,
   "metadata": {},
   "outputs": [],
   "source": [
    "#se debe importa la libreria que se usará\n",
    "import pandas as pd\n",
    "\n",
    "datos = pd.Series([5, 8, 10, 15, 20])\n",
    "mediana = datos.median()\n",
    "\n",
    "print(\"Mediana:\", mediana)\n"
   ]
  },
  {
   "cell_type": "markdown",
   "metadata": {},
   "source": [
    "**Usando Scipy**"
   ]
  },
  {
   "cell_type": "markdown",
   "metadata": {},
   "source": [
    "SciPy es una biblioteca que se construye sobre NumPy y proporciona funciones adicionales para la optimización, estadísticas, procesamiento de señales y más. Puedes utilizar la función scipy.stats.median para calcular la mediana de una serie de datos y realizar pruebas estadísticas más avanzadas."
   ]
  },
  {
   "cell_type": "code",
   "execution_count": null,
   "metadata": {},
   "outputs": [],
   "source": [
    "from scipy import stats\n",
    "\n",
    "datos = [5, 8, 10, 15, 20]\n",
    "mediana = stats.median(datos)\n",
    "\n",
    "print(\"Mediana:\", mediana)\n"
   ]
  },
  {
   "cell_type": "markdown",
   "metadata": {},
   "source": [
    "**Usando Statistics**"
   ]
  },
  {
   "cell_type": "markdown",
   "metadata": {},
   "source": [
    "El módulo statistics es una parte de la biblioteca estándar de Python y proporciona funciones estadísticas básicas, incluyendo la mediana. Puedes utilizar la función statistics.median para calcular la mediana."
   ]
  },
  {
   "cell_type": "code",
   "execution_count": null,
   "metadata": {},
   "outputs": [],
   "source": [
    "import statistics\n",
    "\n",
    "datos = [5, 8, 10, 15, 20]\n",
    "mediana = statistics.median(datos)\n",
    "\n",
    "print(\"Mediana:\", mediana)\n"
   ]
  },
  {
   "cell_type": "markdown",
   "metadata": {},
   "source": [
    "**Usando Scikit learn**"
   ]
  },
  {
   "cell_type": "markdown",
   "metadata": {},
   "source": [
    "Si estás trabajando en análisis de datos y aprendizaje automático, scikit-learn es una biblioteca muy popular. Aunque se enfoca principalmente en aprendizaje automático, también proporciona algunas utilidades para el preprocesamiento de datos y estadísticas descriptivas, que incluyen la mediana."
   ]
  },
  {
   "cell_type": "code",
   "execution_count": null,
   "metadata": {},
   "outputs": [],
   "source": [
    "from sklearn.preprocessing import FunctionTransformer\n",
    "import numpy as np\n",
    "\n",
    "datos = np.array([5, 8, 10, 15, 20])\n",
    "transformer = FunctionTransformer(np.median, validate=False)\n",
    "mediana = transformer.transform(datos.reshape(-1, 1))\n",
    "\n",
    "print(\"Mediana:\", mediana[0])\n"
   ]
  },
  {
   "cell_type": "markdown",
   "metadata": {},
   "source": [
    "Puedes elegir el enfoque que mejor se adapte a tus necesidades y el tipo de datos con los que estás trabajando. NumPy y pandas son particularmente útiles cuando tienes grandes conjuntos de datos o datos tabulares, ya que proporcionan funciones optimizadas para realizar cálculos estadísticos.\n"
   ]
  },
  {
   "cell_type": "markdown",
   "metadata": {},
   "source": [
    "### Ejercicios"
   ]
  },
  {
   "cell_type": "markdown",
   "metadata": {},
   "source": [
    "Calcula la mediana del siguiente conjunto de datos impar usando python puro, Pandas y Numpy\n",
    "\n",
    "[13, 21, 8, 16, 11]"
   ]
  },
  {
   "cell_type": "code",
   "execution_count": 5,
   "metadata": {},
   "outputs": [
    {
     "name": "stdout",
     "output_type": "stream",
     "text": [
      "[8, 11, 13, 16, 21]\n",
      "La Mediana es 13\n"
     ]
    }
   ],
   "source": [
    "# Usando Python puro\n",
    "\n",
    "conjunto = [13,21,8,16,11]\n",
    "\n",
    "orden = sorted(conjunto)\n",
    "\n",
    "m = len(orden)\n",
    "\n",
    "if m % 2 == 0:\n",
    "    mediana = (orden[m // 2 -1] + orden[m // 2])/ 2\n",
    "else:\n",
    "    mediana = orden[m // 2]\n",
    "\n",
    "\n",
    "print(orden)\n",
    "print(f\"La Mediana es {mediana}\")\n"
   ]
  },
  {
   "cell_type": "code",
   "execution_count": 13,
   "metadata": {},
   "outputs": [
    {
     "name": "stdout",
     "output_type": "stream",
     "text": [
      "Datos: [13, 21, 8, 16, 11]\n",
      "La mediana es 13.0\n"
     ]
    }
   ],
   "source": [
    "# Usando Pandas \n",
    "\n",
    "import pandas as pd\n",
    "\n",
    "conjunto_pd = conjunto\n",
    "print(f\"Datos: {conjunto_pd}\")\n",
    "conjunto_pd = pd.Series(conjunto_pd)\n",
    "mediana_pd = conjunto_pd.median()\n",
    "\n",
    "print(f\"La mediana es {mediana_pd}\")"
   ]
  },
  {
   "cell_type": "code",
   "execution_count": 15,
   "metadata": {},
   "outputs": [
    {
     "name": "stdout",
     "output_type": "stream",
     "text": [
      "Datos: [13, 21, 8, 16, 11]\n",
      "la mediana es: 13.0\n"
     ]
    }
   ],
   "source": [
    "# Usando Numpy\n",
    "\n",
    "import numpy as np\n",
    "\n",
    "conjunto_np = conjunto\n",
    "print(f\"Datos: {conjunto_np}\")\n",
    "conjunto_np = np.array(conjunto_np)\n",
    "mediana_np = np.median(conjunto_np)\n",
    "print(f\"la mediana es: {mediana_np}\")"
   ]
  }
 ],
 "metadata": {
  "kernelspec": {
   "display_name": "venv_jupiter",
   "language": "python",
   "name": "python3"
  },
  "language_info": {
   "codemirror_mode": {
    "name": "ipython",
    "version": 3
   },
   "file_extension": ".py",
   "mimetype": "text/x-python",
   "name": "python",
   "nbconvert_exporter": "python",
   "pygments_lexer": "ipython3",
   "version": "3.7.3"
  }
 },
 "nbformat": 4,
 "nbformat_minor": 2
}
